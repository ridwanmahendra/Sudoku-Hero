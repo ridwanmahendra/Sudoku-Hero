{
 "cells": [
  {
   "cell_type": "code",
   "execution_count": 1,
   "metadata": {},
   "outputs": [
    {
     "name": "stderr",
     "output_type": "stream",
     "text": [
      "2022-12-05 14:01:52.376411: I tensorflow/core/platform/cpu_feature_guard.cc:193] This TensorFlow binary is optimized with oneAPI Deep Neural Network Library (oneDNN) to use the following CPU instructions in performance-critical operations:  AVX2 FMA\n",
      "To enable them in other operations, rebuild TensorFlow with the appropriate compiler flags.\n"
     ]
    }
   ],
   "source": [
    "import numpy as np \n",
    "import pandas as pd\n",
    "import seaborn as sns\n",
    "import matplotlib.pyplot as plt\n",
    "import os, random\n",
    "import cv2\n",
    "from glob import glob\n",
    "import sklearn\n",
    "from sklearn.model_selection import train_test_split\n",
    "import tensorflow as tf\n",
    "from tensorflow import keras\n",
    "from tensorflow.keras.preprocessing.image import ImageDataGenerator\n",
    "from keras.preprocessing.image import ImageDataGenerator\n",
    "from tensorflow.keras.preprocessing.image import load_img\n",
    "from keras.utils.np_utils import to_categorical\n",
    "from tensorflow.keras.models import Sequential\n",
    "from tensorflow.keras.layers import Activation, Dropout, Dense, Flatten, BatchNormalization, Conv2D, MaxPooling2D\n",
    "from tensorflow.keras.optimizers import RMSprop\n",
    "from tensorflow.keras import backend as K\n",
    "from tensorflow.keras.preprocessing import image\n",
    "from sklearn.metrics import accuracy_score, classification_report\n",
    "from pathlib import Path\n",
    "from PIL import Image \n",
    "\n",
    "model = tf.keras.models.load_model('modelkedua.h5')\n",
    "sudoku_a = cv2.imread('/Volumes/DATAMAC/notebook/Sudoku/Sudoku-Hero/datasetsudoku/image1005.jpg')\n",
    "# resize image\n",
    "sudoku_a = cv2.resize(sudoku_a, (450, 450))\n",
    "\n",
    "# preprocess image\n",
    "def preprocess(image):\n",
    "    # convert to grayscale\n",
    "    gray = cv2.cvtColor(image, cv2.COLOR_BGR2GRAY)\n",
    "    # blur the image to reduce noise\n",
    "    blur = cv2.GaussianBlur(gray, (3, 3), 6)\n",
    "    # apply adaptive thresholding\n",
    "    thresh = cv2.adaptiveThreshold(blur, 255, 1, 1, 11, 2)\n",
    "    return thresh\n",
    "\n",
    "contour_1 = sudoku_a.copy()\n",
    "contour_2 = sudoku_a.copy()\n",
    "contours, hierarchy = cv2.findContours(preprocess(sudoku_a), cv2.RETR_EXTERNAL, cv2.CHAIN_APPROX_SIMPLE)\n",
    "\n",
    "def main_outline(contours):\n",
    "    \n",
    "thresh = preprocess(sudoku_a)"
   ]
  },
  {
   "cell_type": "code",
   "execution_count": 2,
   "metadata": {},
   "outputs": [
    {
     "name": "stderr",
     "output_type": "stream",
     "text": [
      "2022-12-05 14:02:19.114889: I tensorflow/core/platform/cpu_feature_guard.cc:193] This TensorFlow binary is optimized with oneAPI Deep Neural Network Library (oneDNN) to use the following CPU instructions in performance-critical operations:  AVX2 FMA\n",
      "To enable them in other operations, rebuild TensorFlow with the appropriate compiler flags.\n"
     ]
    }
   ],
   "source": [
    "model = tf.keras.models.load_model('modelkedua.h5')"
   ]
  },
  {
   "cell_type": "code",
   "execution_count": 4,
   "metadata": {},
   "outputs": [
    {
     "ename": "NameError",
     "evalue": "name 'preprocess' is not defined",
     "output_type": "error",
     "traceback": [
      "\u001b[0;31m---------------------------------------------------------------------------\u001b[0m",
      "\u001b[0;31mNameError\u001b[0m                                 Traceback (most recent call last)",
      "\u001b[1;32m/Volumes/DATAMAC/notebook/PROJECT/Sudoku-Hero/programs.ipynb Cell 3\u001b[0m in \u001b[0;36m<cell line: 3>\u001b[0;34m()\u001b[0m\n\u001b[1;32m      <a href='vscode-notebook-cell:/Volumes/DATAMAC/notebook/PROJECT/Sudoku-Hero/programs.ipynb#W2sZmlsZQ%3D%3D?line=0'>1</a>\u001b[0m contour_1 \u001b[39m=\u001b[39m sudoku_a\u001b[39m.\u001b[39mcopy()\n\u001b[1;32m      <a href='vscode-notebook-cell:/Volumes/DATAMAC/notebook/PROJECT/Sudoku-Hero/programs.ipynb#W2sZmlsZQ%3D%3D?line=1'>2</a>\u001b[0m contour_2 \u001b[39m=\u001b[39m sudoku_a\u001b[39m.\u001b[39mcopy()\n\u001b[0;32m----> <a href='vscode-notebook-cell:/Volumes/DATAMAC/notebook/PROJECT/Sudoku-Hero/programs.ipynb#W2sZmlsZQ%3D%3D?line=2'>3</a>\u001b[0m contours, hierarchy \u001b[39m=\u001b[39m cv2\u001b[39m.\u001b[39mfindContours(preprocess(sudoku_a), cv2\u001b[39m.\u001b[39mRETR_EXTERNAL, cv2\u001b[39m.\u001b[39mCHAIN_APPROX_SIMPLE)\n\u001b[1;32m      <a href='vscode-notebook-cell:/Volumes/DATAMAC/notebook/PROJECT/Sudoku-Hero/programs.ipynb#W2sZmlsZQ%3D%3D?line=3'>4</a>\u001b[0m cv2\u001b[39m.\u001b[39mdrawContours(contour_1, contours, \u001b[39m-\u001b[39m\u001b[39m1\u001b[39m, (\u001b[39m0\u001b[39m, \u001b[39m255\u001b[39m, \u001b[39m0\u001b[39m), \u001b[39m3\u001b[39m)\n",
      "\u001b[0;31mNameError\u001b[0m: name 'preprocess' is not defined"
     ]
    }
   ],
   "source": [
    "contour_1 = sudoku_a.copy()\n",
    "contour_2 = sudoku_a.copy()\n",
    "contours, hierarchy = cv2.findContours(preprocess(sudoku_a), cv2.RETR_EXTERNAL, cv2.CHAIN_APPROX_SIMPLE)\n",
    "cv2.drawContours(contour_1, contours, -1, (0, 255, 0), 3)"
   ]
  },
  {
   "cell_type": "code",
   "execution_count": null,
   "metadata": {},
   "outputs": [],
   "source": []
  }
 ],
 "metadata": {
  "kernelspec": {
   "display_name": "Python 3.8.7 64-bit",
   "language": "python",
   "name": "python3"
  },
  "language_info": {
   "codemirror_mode": {
    "name": "ipython",
    "version": 3
   },
   "file_extension": ".py",
   "mimetype": "text/x-python",
   "name": "python",
   "nbconvert_exporter": "python",
   "pygments_lexer": "ipython3",
   "version": "3.8.7"
  },
  "orig_nbformat": 4,
  "vscode": {
   "interpreter": {
    "hash": "aee8b7b246df8f9039afb4144a1f6fd8d2ca17a180786b69acc140d282b71a49"
   }
  }
 },
 "nbformat": 4,
 "nbformat_minor": 2
}
